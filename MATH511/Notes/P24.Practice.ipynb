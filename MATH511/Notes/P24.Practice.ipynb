{
 "cells": [
  {
   "cell_type": "code",
   "execution_count": 2,
   "metadata": {},
   "outputs": [
    {
     "name": "stdout",
     "output_type": "stream",
     "text": [
      "Populating the interactive namespace from numpy and matplotlib\n"
     ]
    }
   ],
   "source": [
    "import sympy as sp\n",
    "import math\n",
    "class Matrix:\n",
    "    def __init__(self, coeffs, b):\n",
    "        self.mat = [c+[b] for (c, b) in zip(coeffs, b)]\n",
    "        \n",
    "    def clean(self):\n",
    "        def i_if_i(n):\n",
    "            try:\n",
    "                i = round(n,3)\n",
    "                if int(i) == i:\n",
    "                    return int(i)\n",
    "            except:\n",
    "                return n\n",
    "            else:\n",
    "                return i\n",
    "        self.mat = [[i_if_i(v) for v in r] for r in self.mat]\n",
    "\n",
    "    def swp(self, src, dest):\n",
    "        n = self\n",
    "        n.mat[dest], n.mat[src] = n.mat[src], n.mat[dest]\n",
    "        return n\n",
    "\n",
    "    def fma(self, src, dest, coeff):\n",
    "        n = self\n",
    "        n.mat[dest] = [d+s*coeff for (s, d) in zip(n.mat[src], n.mat[dest])]\n",
    "        n.clean()\n",
    "        return n\n",
    "\n",
    "    def mul(self, row, coeff):\n",
    "        n = self\n",
    "        n.mat[row] = [s*coeff for s in n.mat[row]]\n",
    "        n.clean()\n",
    "        return n\n",
    "    \n",
    "def multiplot(eqns, rangevars):\n",
    "    v,minx,maxx = rangevars\n",
    "    ssym = [sym for sym in eqns[0].free_symbols if sym != v][0]\n",
    "    solved = [sp.solve(eq, ssym)[0] for eq in eqns]\n",
    "    return sp.plot(*solved, (v,minx,maxx))\n",
    "\n",
    "# Cheaty hack to let us put sp symbols in arrays\n",
    "sp.Symbol.__round__ = lambda x,y:x\n",
    "\n",
    "%pylab inline\n",
    "sp.init_printing()\n",
    "get_ipython().display_formatter.formatters['text/latex'].for_type(Matrix, lambda o: \"$\\\\left[\\\\begin{array}{%CCOUNT|c}%BODY\\\\end{array}\\\\right]$\".replace('%CCOUNT', 'c'*(len(o.mat[0])-1)).replace('%BODY', '\\\\\\\\\\n'.join(['&'.join([str(e) for e in r]) for r in o.mat])))"
   ]
  },
  {
   "cell_type": "markdown",
   "metadata": {},
   "source": [
    "# P23 - 5BEFJ,6AD,8,9"
   ]
  },
  {
   "cell_type": "markdown",
   "metadata": {},
   "source": [
    "## 5B\n",
    "\n",
    "Inconsistant: $0\\ne 18$"
   ]
  },
  {
   "cell_type": "code",
   "execution_count": 3,
   "metadata": {},
   "outputs": [
    {
     "data": {
      "text/latex": [
       "$\\left[\\begin{array}{ccc|c}-1&2&-1&2\\\\\n",
       "-2&2&1&4\\\\\n",
       "3&2&2&5\\\\\n",
       "-3&8&5&17\\end{array}\\right]$"
      ],
      "text/plain": [
       "<__main__.Matrix at 0x7f681807a4e0>"
      ]
     },
     "execution_count": 3,
     "metadata": {},
     "output_type": "execute_result"
    }
   ],
   "source": [
    "Matrix([[-1,2,-1],[-2,2,1],[3,2,2],[-3,8,5]],[2,4,5,17])"
   ]
  },
  {
   "cell_type": "code",
   "execution_count": 4,
   "metadata": {},
   "outputs": [
    {
     "data": {
      "text/latex": [
       "$\\left[\\begin{array}{ccc|c}1&-2&1&-2\\\\\n",
       "-2&2&1&4\\\\\n",
       "3&2&2&5\\\\\n",
       "-3&8&5&17\\end{array}\\right]$"
      ],
      "text/plain": [
       "<__main__.Matrix at 0x7f681807a4e0>"
      ]
     },
     "execution_count": 4,
     "metadata": {},
     "output_type": "execute_result"
    }
   ],
   "source": [
    "_.mul(0,-1)"
   ]
  },
  {
   "cell_type": "code",
   "execution_count": 5,
   "metadata": {},
   "outputs": [
    {
     "data": {
      "text/latex": [
       "$\\left[\\begin{array}{ccc|c}1&-2&1&-2\\\\\n",
       "0&-2&3&0\\\\\n",
       "3&2&2&5\\\\\n",
       "-3&8&5&17\\end{array}\\right]$"
      ],
      "text/plain": [
       "<__main__.Matrix at 0x7f681807a4e0>"
      ]
     },
     "execution_count": 5,
     "metadata": {},
     "output_type": "execute_result"
    }
   ],
   "source": [
    "_.fma(0,1,2)"
   ]
  },
  {
   "cell_type": "markdown",
   "metadata": {},
   "source": [
    "_.mul(1,-1/2)"
   ]
  },
  {
   "cell_type": "code",
   "execution_count": 7,
   "metadata": {},
   "outputs": [
    {
     "data": {
      "text/latex": [
       "$\\left[\\begin{array}{ccc|c}1&-2&1&-2\\\\\n",
       "0&1&-1.5&0\\\\\n",
       "0&8&-1&11\\\\\n",
       "-3&8&5&17\\end{array}\\right]$"
      ],
      "text/plain": [
       "<__main__.Matrix at 0x7f681807a4e0>"
      ]
     },
     "execution_count": 7,
     "metadata": {},
     "output_type": "execute_result"
    }
   ],
   "source": [
    "_.fma(0,2,-3)"
   ]
  },
  {
   "cell_type": "code",
   "execution_count": 8,
   "metadata": {},
   "outputs": [
    {
     "data": {
      "text/latex": [
       "$\\left[\\begin{array}{ccc|c}1&-2&1&-2\\\\\n",
       "0&1&-1.5&0\\\\\n",
       "0&0&11&11\\\\\n",
       "-3&8&5&17\\end{array}\\right]$"
      ],
      "text/plain": [
       "<__main__.Matrix at 0x7f681807a4e0>"
      ]
     },
     "execution_count": 8,
     "metadata": {},
     "output_type": "execute_result"
    }
   ],
   "source": [
    "_.fma(1,2,-8)"
   ]
  },
  {
   "cell_type": "code",
   "execution_count": 9,
   "metadata": {},
   "outputs": [
    {
     "data": {
      "text/latex": [
       "$\\left[\\begin{array}{ccc|c}1&-2&1&-2\\\\\n",
       "0&1&-1.5&0\\\\\n",
       "-3&8&5&17\\\\\n",
       "0&0&11&11\\end{array}\\right]$"
      ],
      "text/plain": [
       "<__main__.Matrix at 0x7f681807a4e0>"
      ]
     },
     "execution_count": 9,
     "metadata": {},
     "output_type": "execute_result"
    }
   ],
   "source": [
    "_.swp(2,3)"
   ]
  },
  {
   "cell_type": "code",
   "execution_count": 10,
   "metadata": {},
   "outputs": [
    {
     "data": {
      "text/latex": [
       "$\\left[\\begin{array}{ccc|c}1&-2&1&-2\\\\\n",
       "0&1&-1.5&0\\\\\n",
       "0&2&8&11\\\\\n",
       "0&0&11&11\\end{array}\\right]$"
      ],
      "text/plain": [
       "<__main__.Matrix at 0x7f681807a4e0>"
      ]
     },
     "execution_count": 10,
     "metadata": {},
     "output_type": "execute_result"
    }
   ],
   "source": [
    "_.fma(0,2,3)"
   ]
  },
  {
   "cell_type": "code",
   "execution_count": 11,
   "metadata": {},
   "outputs": [
    {
     "data": {
      "text/latex": [
       "$\\left[\\begin{array}{ccc|c}1&-2&1&-2\\\\\n",
       "0&1&-1.5&0\\\\\n",
       "0&0&11&11\\\\\n",
       "0&0&11&11\\end{array}\\right]$"
      ],
      "text/plain": [
       "<__main__.Matrix at 0x7f681807a4e0>"
      ]
     },
     "execution_count": 11,
     "metadata": {},
     "output_type": "execute_result"
    }
   ],
   "source": [
    "_.fma(1,2,-2)"
   ]
  },
  {
   "cell_type": "markdown",
   "metadata": {},
   "source": [
    "---"
   ]
  },
  {
   "cell_type": "code",
   "execution_count": 12,
   "metadata": {},
   "outputs": [
    {
     "data": {
      "text/latex": [
       "$\\left[\\begin{array}{cccc|c}1&3&1&1&3\\\\\n",
       "2&-2&1&2&8\\\\\n",
       "3&1&2&-1&-1\\end{array}\\right]$"
      ],
      "text/plain": [
       "<__main__.Matrix at 0x7f681807ac18>"
      ]
     },
     "execution_count": 12,
     "metadata": {},
     "output_type": "execute_result"
    }
   ],
   "source": [
    "Matrix([[1,3,1,1],[2,-2,1,2],[3,1,2,-1]],[3,8,-1])"
   ]
  },
  {
   "cell_type": "code",
   "execution_count": 13,
   "metadata": {},
   "outputs": [
    {
     "data": {
      "text/latex": [
       "$\\left[\\begin{array}{cccc|c}1&3&1&1&3\\\\\n",
       "0&-8&-1&0&2\\\\\n",
       "3&1&2&-1&-1\\end{array}\\right]$"
      ],
      "text/plain": [
       "<__main__.Matrix at 0x7f681807ac18>"
      ]
     },
     "execution_count": 13,
     "metadata": {},
     "output_type": "execute_result"
    }
   ],
   "source": [
    "_.fma(0,1,-2)"
   ]
  },
  {
   "cell_type": "code",
   "execution_count": 14,
   "metadata": {},
   "outputs": [
    {
     "data": {
      "text/latex": [
       "$\\left[\\begin{array}{cccc|c}1&3&1&1&3\\\\\n",
       "0&1&0.125&0&-0.25\\\\\n",
       "3&1&2&-1&-1\\end{array}\\right]$"
      ],
      "text/plain": [
       "<__main__.Matrix at 0x7f681807ac18>"
      ]
     },
     "execution_count": 14,
     "metadata": {},
     "output_type": "execute_result"
    }
   ],
   "source": [
    "_.mul(1,-1/8)"
   ]
  },
  {
   "cell_type": "code",
   "execution_count": 15,
   "metadata": {},
   "outputs": [
    {
     "data": {
      "text/latex": [
       "$\\left[\\begin{array}{cccc|c}1&3&1&1&3\\\\\n",
       "0&1&0.125&0&-0.25\\\\\n",
       "0&-8&-1&-4&-10\\end{array}\\right]$"
      ],
      "text/plain": [
       "<__main__.Matrix at 0x7f681807ac18>"
      ]
     },
     "execution_count": 15,
     "metadata": {},
     "output_type": "execute_result"
    }
   ],
   "source": [
    "_.fma(0,2,-3)"
   ]
  },
  {
   "cell_type": "code",
   "execution_count": 16,
   "metadata": {},
   "outputs": [
    {
     "data": {
      "text/latex": [
       "$\\left[\\begin{array}{cccc|c}1&3&1&1&3\\\\\n",
       "0&1&0.125&0&-0.25\\\\\n",
       "0&0&0&-4&-12\\end{array}\\right]$"
      ],
      "text/plain": [
       "<__main__.Matrix at 0x7f681807ac18>"
      ]
     },
     "execution_count": 16,
     "metadata": {},
     "output_type": "execute_result"
    }
   ],
   "source": [
    "_.fma(1,2,8)"
   ]
  },
  {
   "cell_type": "code",
   "execution_count": 17,
   "metadata": {},
   "outputs": [
    {
     "data": {
      "text/latex": [
       "$\\left[\\begin{array}{cccc|c}1&3&1&1&3\\\\\n",
       "0&1&0.125&0&-0.25\\\\\n",
       "0&0&0&1&3\\end{array}\\right]$"
      ],
      "text/plain": [
       "<__main__.Matrix at 0x7f681807ac18>"
      ]
     },
     "execution_count": 17,
     "metadata": {},
     "output_type": "execute_result"
    }
   ],
   "source": [
    "_.mul(2,-1/4)"
   ]
  },
  {
   "cell_type": "markdown",
   "metadata": {},
   "source": [
    "---"
   ]
  },
  {
   "cell_type": "code",
   "execution_count": 20,
   "metadata": {},
   "outputs": [
    {
     "data": {
      "text/latex": [
       "$\\left[\\begin{array}{cccc|c}1&3&1&1&1\\\\\n",
       "2&-2&1&2&8\\\\\n",
       "1&-5&0&1&5\\end{array}\\right]$"
      ],
      "text/plain": [
       "<__main__.Matrix at 0x7f681807ae80>"
      ]
     },
     "execution_count": 20,
     "metadata": {},
     "output_type": "execute_result"
    }
   ],
   "source": [
    "Matrix([[1,3,1,1],[2,-2,1,2],[1,-5,0,1]],[1,8,5])"
   ]
  },
  {
   "cell_type": "code",
   "execution_count": 21,
   "metadata": {},
   "outputs": [
    {
     "data": {
      "text/latex": [
       "$\\left[\\begin{array}{cccc|c}1&3&1&1&1\\\\\n",
       "0&-8&-1&0&6\\\\\n",
       "1&-5&0&1&5\\end{array}\\right]$"
      ],
      "text/plain": [
       "<__main__.Matrix at 0x7f681807ae80>"
      ]
     },
     "execution_count": 21,
     "metadata": {},
     "output_type": "execute_result"
    }
   ],
   "source": [
    "_.fma(0,1,-2)"
   ]
  },
  {
   "cell_type": "code",
   "execution_count": 22,
   "metadata": {},
   "outputs": [
    {
     "data": {
      "text/latex": [
       "$\\left[\\begin{array}{cccc|c}1&3&1&1&1\\\\\n",
       "0&1&0.125&0&-0.75\\\\\n",
       "1&-5&0&1&5\\end{array}\\right]$"
      ],
      "text/plain": [
       "<__main__.Matrix at 0x7f681807ae80>"
      ]
     },
     "execution_count": 22,
     "metadata": {},
     "output_type": "execute_result"
    }
   ],
   "source": [
    "_.mul(1,-1/8)"
   ]
  },
  {
   "cell_type": "code",
   "execution_count": 23,
   "metadata": {},
   "outputs": [
    {
     "data": {
      "text/latex": [
       "$\\left[\\begin{array}{cccc|c}1&3&1&1&1\\\\\n",
       "0&1&0.125&0&-0.75\\\\\n",
       "0&-8&-1&0&4\\end{array}\\right]$"
      ],
      "text/plain": [
       "<__main__.Matrix at 0x7f681807ae80>"
      ]
     },
     "execution_count": 23,
     "metadata": {},
     "output_type": "execute_result"
    }
   ],
   "source": [
    "_.fma(0,2,-1)"
   ]
  },
  {
   "cell_type": "code",
   "execution_count": 24,
   "metadata": {},
   "outputs": [
    {
     "data": {
      "text/latex": [
       "$\\left[\\begin{array}{cccc|c}1&3&1&1&1\\\\\n",
       "0&1&0.125&0&-0.75\\\\\n",
       "0&0&0&0&-2\\end{array}\\right]$"
      ],
      "text/plain": [
       "<__main__.Matrix at 0x7f681807ae80>"
      ]
     },
     "execution_count": 24,
     "metadata": {},
     "output_type": "execute_result"
    }
   ],
   "source": [
    "_.fma(1,2,8)"
   ]
  },
  {
   "cell_type": "code",
   "execution_count": null,
   "metadata": {},
   "outputs": [],
   "source": [
    "(-3/4)*8"
   ]
  }
 ],
 "metadata": {
  "kernelspec": {
   "display_name": "Python 3",
   "language": "python",
   "name": "python3"
  },
  "language_info": {
   "codemirror_mode": {
    "name": "ipython",
    "version": 3
   },
   "file_extension": ".py",
   "mimetype": "text/x-python",
   "name": "python",
   "nbconvert_exporter": "python",
   "pygments_lexer": "ipython3",
   "version": "3.5.3"
  }
 },
 "nbformat": 4,
 "nbformat_minor": 2
}
