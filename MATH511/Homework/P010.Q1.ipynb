{
 "cells": [
  {
   "cell_type": "markdown",
   "metadata": {},
   "source": [
    "# Page 10: Question 1"
   ]
  },
  {
   "cell_type": "code",
   "execution_count": 1,
   "metadata": {},
   "outputs": [],
   "source": [
    "import sympy as sp\n",
    "sp.init_printing()\n",
    "x1,x2,x3,x4,x5 = sp.symbols('x1 x2 x3 x4 x5')"
   ]
  },
  {
   "cell_type": "code",
   "execution_count": 2,
   "metadata": {},
   "outputs": [
    {
     "data": {
      "image/png": "[encoded data removed]",
      "text/latex": [
       "$$\\left\\{\\left ( 11, \\quad 3\\right )\\right\\}$$"
      ],
      "text/plain": [
       "{(11, 3)}"
      ]
     },
     "execution_count": 2,
     "metadata": {},
     "output_type": "execute_result"
    }
   ],
   "source": [
    "# A\n",
    "sp.linsolve([\n",
    "    sp.Eq(x1-3*x2,2),\n",
    "    sp.Eq(2*x2,6)\n",
    "], [x1,x2])"
   ]
  },
  {
   "cell_type": "code",
   "execution_count": 3,
   "metadata": {},
   "outputs": [
    {
     "data": {
      "image/png": "[encoded data removed]",
      "text/latex": [
       "$$\\left\\{\\left ( 4, \\quad 1, \\quad 3\\right )\\right\\}$$"
      ],
      "text/plain": [
       "{(4, 1, 3)}"
      ]
     },
     "execution_count": 3,
     "metadata": {},
     "output_type": "execute_result"
    }
   ],
   "source": [
    "# B\n",
    "sp.linsolve([\n",
    "    sp.Eq(x1+x2+x3,8),\n",
    "    sp.Eq(2*x2+x3,5),\n",
    "    sp.Eq(3*x3,9)\n",
    "],[x1,x2,x3])"
   ]
  },
  {
   "cell_type": "code",
   "execution_count": 4,
   "metadata": {},
   "outputs": [
    {
     "data": {
      "image/png": "[encoded data removed]",
      "text/latex": [
       "$$\\left\\{\\left ( -2, \\quad 0, \\quad 3, \\quad 1\\right )\\right\\}$$"
      ],
      "text/plain": [
       "{(-2, 0, 3, 1)}"
      ]
     },
     "execution_count": 4,
     "metadata": {},
     "output_type": "execute_result"
    }
   ],
   "source": [
    "# C\n",
    "sp.linsolve([\n",
    "    sp.Eq(x1+2*x2+2*x3+x4, 5),\n",
    "    sp.Eq(3*x2+x3-2*x4, 1),\n",
    "    sp.Eq(-1*x3+2*x4, -1),\n",
    "    sp.Eq(4*x4, 4)\n",
    "],[x1,x2,x3,x4])"
   ]
  },
  {
   "cell_type": "code",
   "execution_count": 5,
   "metadata": {},
   "outputs": [
    {
     "data": {
      "image/png": "[encoded data removed]",
      "text/latex": [
       "$$\\left\\{\\left ( -2, \\quad 3, \\quad 0, \\quad 3, \\quad 1\\right )\\right\\}$$"
      ],
      "text/plain": [
       "{(-2, 3, 0, 3, 1)}"
      ]
     },
     "execution_count": 5,
     "metadata": {},
     "output_type": "execute_result"
    }
   ],
   "source": [
    "# D\n",
    "sp.linsolve([\n",
    "    sp.Eq(x1+x2+x3+x4+x5, 5),\n",
    "    sp.Eq(2*x2+x3-2*x4+x5, 1),\n",
    "    sp.Eq(4*x3+x4-2*x5, 1),\n",
    "    sp.Eq(x4-3*x5, 0),\n",
    "    sp.Eq(2*x5, 2)\n",
    "], [x1,x2,x3,x4,x5])"
   ]
  },
  {
   "cell_type": "code",
   "execution_count": null,
   "metadata": {},
   "outputs": [],
   "source": []
  }
 ],
 "metadata": {
  "kernelspec": {
   "display_name": "Python 3",
   "language": "python",
   "name": "python3"
  },
  "language_info": {
   "codemirror_mode": {
    "name": "ipython",
    "version": 3
   },
   "file_extension": ".py",
   "mimetype": "text/x-python",
   "name": "python",
   "nbconvert_exporter": "python",
   "pygments_lexer": "ipython3",
   "version": "3.7.0"
  }
 },
 "nbformat": 4,
 "nbformat_minor": 2
}
