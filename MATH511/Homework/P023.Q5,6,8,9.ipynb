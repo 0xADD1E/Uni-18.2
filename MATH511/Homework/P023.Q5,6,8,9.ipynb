{
 "cells": [
  {
   "cell_type": "code",
   "execution_count": 1,
   "metadata": {},
   "outputs": [
    {
     "name": "stdout",
     "output_type": "stream",
     "text": [
      "Populating the interactive namespace from numpy and matplotlib\n"
     ]
    }
   ],
   "source": [
    "import sympy as sp\n",
    "import math\n",
    "class Matrix:\n",
    "    def __init__(self, coeffs, b):\n",
    "        self.mat = [c+[b] for (c, b) in zip(coeffs, b)]\n",
    "        \n",
    "    def clean(self):\n",
    "        def i_if_i(n):\n",
    "            try:\n",
    "                i = round(n,3)\n",
    "                if int(i) == i:\n",
    "                    return int(i)\n",
    "            except:\n",
    "                return n\n",
    "            else:\n",
    "                return i\n",
    "        self.mat = [[i_if_i(v) for v in r] for r in self.mat]\n",
    "\n",
    "    def swp(self, src, dest):\n",
    "        n = self\n",
    "        n.mat[dest], n.mat[src] = n.mat[src], n.mat[dest]\n",
    "        return n\n",
    "\n",
    "    def fma(self, src, dest, coeff):\n",
    "        n = self\n",
    "        n.mat[dest] = [d+s*coeff for (s, d) in zip(n.mat[src], n.mat[dest])]\n",
    "        n.clean()\n",
    "        return n\n",
    "\n",
    "    def mul(self, row, coeff):\n",
    "        n = self\n",
    "        n.mat[row] = [s*coeff for s in n.mat[row]]\n",
    "        n.clean()\n",
    "        return n\n",
    "    \n",
    "def multiplot(eqns, rangevars):\n",
    "    v,minx,maxx = rangevars\n",
    "    ssym = [sym for sym in eqns[0].free_symbols if sym != v][0]\n",
    "    solved = [sp.solve(eq, ssym)[0] for eq in eqns]\n",
    "    return sp.plot(*solved, (v,minx,maxx))\n",
    "\n",
    "# Cheaty hack to let us put sp symbols in arrays\n",
    "sp.Symbol.__round__ = lambda x,y:x\n",
    "\n",
    "%pylab inline\n",
    "sp.init_printing()\n",
    "get_ipython().display_formatter.formatters['text/latex'].for_type(Matrix, lambda o: \"$\\\\left[\\\\begin{array}{%CCOUNT|c}%BODY\\\\end{array}\\\\right]$\".replace('%CCOUNT', 'c'*(len(o.mat[0])-1)).replace('%BODY', '\\\\\\\\\\n'.join(['&'.join([str(e) for e in r]) for r in o.mat])))"
   ]
  },
  {
   "cell_type": "markdown",
   "metadata": {},
   "source": [
    "# P23 - 5BEFJ,6AD,8,9"
   ]
  },
  {
   "cell_type": "markdown",
   "metadata": {},
   "source": [
    "## 5B\n",
    "\n",
    "Inconsistant: $0\\ne 18$"
   ]
  },
  {
   "cell_type": "code",
   "execution_count": 2,
   "metadata": {},
   "outputs": [
    {
     "data": {
      "text/latex": [
       "$\\left[\\begin{array}{cc|c}2&-3&5\\\\\n",
       "-4&6&8\\end{array}\\right]$"
      ],
      "text/plain": [
       "<__main__.Matrix at 0x7f357caa5c88>"
      ]
     },
     "execution_count": 2,
     "metadata": {},
     "output_type": "execute_result"
    }
   ],
   "source": [
    "Matrix([[2,-3],[-4,6]],[5,8])"
   ]
  },
  {
   "cell_type": "code",
   "execution_count": 3,
   "metadata": {},
   "outputs": [
    {
     "data": {
      "text/latex": [
       "$\\left[\\begin{array}{cc|c}2&-3&5\\\\\n",
       "0&0&18\\end{array}\\right]$"
      ],
      "text/plain": [
       "<__main__.Matrix at 0x7f357caa5c88>"
      ]
     },
     "execution_count": 3,
     "metadata": {},
     "output_type": "execute_result"
    }
   ],
   "source": [
    "_.fma(0,1,2)"
   ]
  },
  {
   "cell_type": "markdown",
   "metadata": {},
   "source": [
    "## 5E\n",
    "Consistant: $\n",
    "\\begin{cases}\n",
    "x_3=t|t\\in \\Bbb R\\\\\n",
    "x_2=t-5\\\\\n",
    "x_1=8-2t\\\\\n",
    "\\end{cases}\n",
    "$"
   ]
  },
  {
   "cell_type": "code",
   "execution_count": 4,
   "metadata": {},
   "outputs": [
    {
     "data": {
      "text/latex": [
       "$\\left[\\begin{array}{ccc|c}2&3&1&1\\\\\n",
       "1&1&1&3\\\\\n",
       "3&4&2&4\\end{array}\\right]$"
      ],
      "text/plain": [
       "<__main__.Matrix at 0x7f357caa5b70>"
      ]
     },
     "execution_count": 4,
     "metadata": {},
     "output_type": "execute_result"
    }
   ],
   "source": [
    "Matrix([[2,3,1],[1,1,1],[3,4,2]],[1,3,4])"
   ]
  },
  {
   "cell_type": "code",
   "execution_count": 5,
   "metadata": {},
   "outputs": [
    {
     "data": {
      "text/latex": [
       "$\\left[\\begin{array}{ccc|c}1&1&1&3\\\\\n",
       "0&1&-1&-5\\\\\n",
       "3&4&2&4\\end{array}\\right]$"
      ],
      "text/plain": [
       "<__main__.Matrix at 0x7f357caa5b70>"
      ]
     },
     "execution_count": 5,
     "metadata": {},
     "output_type": "execute_result"
    }
   ],
   "source": [
    "_.swp(0,1).fma(0,1,-2)"
   ]
  },
  {
   "cell_type": "code",
   "execution_count": 6,
   "metadata": {},
   "outputs": [
    {
     "data": {
      "text/latex": [
       "$\\left[\\begin{array}{ccc|c}1&1&1&3\\\\\n",
       "0&1&-1&-5\\\\\n",
       "0&0&0&0\\end{array}\\right]$"
      ],
      "text/plain": [
       "<__main__.Matrix at 0x7f357caa5b70>"
      ]
     },
     "execution_count": 6,
     "metadata": {},
     "output_type": "execute_result"
    }
   ],
   "source": [
    "_.fma(0,2,-3).fma(1,2,-1)"
   ]
  },
  {
   "cell_type": "markdown",
   "metadata": {},
   "source": [
    "## 5F\n",
    "Inconsistant: $0\\ne -7$"
   ]
  },
  {
   "cell_type": "code",
   "execution_count": 7,
   "metadata": {},
   "outputs": [
    {
     "data": {
      "text/latex": [
       "$\\left[\\begin{array}{ccc|c}1&-1&2&4\\\\\n",
       "2&3&-1&1\\\\\n",
       "7&3&4&7\\end{array}\\right]$"
      ],
      "text/plain": [
       "<__main__.Matrix at 0x7f357cab95c0>"
      ]
     },
     "execution_count": 7,
     "metadata": {},
     "output_type": "execute_result"
    }
   ],
   "source": [
    "Matrix([[1,-1,2],[2,3,-1],[7,3,4]],[4,1,7])"
   ]
  },
  {
   "cell_type": "code",
   "execution_count": 8,
   "metadata": {},
   "outputs": [
    {
     "data": {
      "text/latex": [
       "$\\left[\\begin{array}{ccc|c}1&-1&2&4\\\\\n",
       "0&1&-1&-1.4\\\\\n",
       "7&3&4&7\\end{array}\\right]$"
      ],
      "text/plain": [
       "<__main__.Matrix at 0x7f357cab95c0>"
      ]
     },
     "execution_count": 8,
     "metadata": {},
     "output_type": "execute_result"
    }
   ],
   "source": [
    "_.fma(0,1,-2).mul(1,1/5)"
   ]
  },
  {
   "cell_type": "code",
   "execution_count": 9,
   "metadata": {},
   "outputs": [
    {
     "data": {
      "text/latex": [
       "$\\left[\\begin{array}{ccc|c}1&-1&2&4\\\\\n",
       "0&1&-1&-1.4\\\\\n",
       "0&0&0&-7\\end{array}\\right]$"
      ],
      "text/plain": [
       "<__main__.Matrix at 0x7f357cab95c0>"
      ]
     },
     "execution_count": 9,
     "metadata": {},
     "output_type": "execute_result"
    }
   ],
   "source": [
    "_.fma(0,2,-7).fma(1,2,-10)"
   ]
  },
  {
   "cell_type": "markdown",
   "metadata": {},
   "source": [
    "## 5J\n",
    "\n",
    "Consistant: $\n",
    "\\begin{cases}\n",
    "x_4=t|t\\in \\Bbb R\\\\\n",
    "x_3=3-t\\\\\n",
    "x_2=4+t\\\\\n",
    "x_1=2-3t\\\\\n",
    "\\end{cases}\n",
    "$"
   ]
  },
  {
   "cell_type": "code",
   "execution_count": 10,
   "metadata": {},
   "outputs": [
    {
     "data": {
      "text/latex": [
       "$\\left[\\begin{array}{cccc|c}1&2&-3&1&1\\\\\n",
       "-1&-1&4&-1&6\\\\\n",
       "-2&-4&7&-1&1\\end{array}\\right]$"
      ],
      "text/plain": [
       "<__main__.Matrix at 0x7f357cab9160>"
      ]
     },
     "execution_count": 10,
     "metadata": {},
     "output_type": "execute_result"
    }
   ],
   "source": [
    "Matrix([[1,2,-3,1],[-1,-1,4,-1],[-2,-4,7,-1]],[1,6,1])"
   ]
  },
  {
   "cell_type": "code",
   "execution_count": 11,
   "metadata": {},
   "outputs": [
    {
     "data": {
      "text/latex": [
       "$\\left[\\begin{array}{cccc|c}1&2&-3&1&1\\\\\n",
       "0&1&1&0&7\\\\\n",
       "-2&-4&7&-1&1\\end{array}\\right]$"
      ],
      "text/plain": [
       "<__main__.Matrix at 0x7f357cab9160>"
      ]
     },
     "execution_count": 11,
     "metadata": {},
     "output_type": "execute_result"
    }
   ],
   "source": [
    "_.fma(0,1,1)"
   ]
  },
  {
   "cell_type": "code",
   "execution_count": 12,
   "metadata": {},
   "outputs": [
    {
     "data": {
      "text/latex": [
       "$\\left[\\begin{array}{cccc|c}1&2&-3&1&1\\\\\n",
       "0&1&1&0&7\\\\\n",
       "0&0&1&1&3\\end{array}\\right]$"
      ],
      "text/plain": [
       "<__main__.Matrix at 0x7f357cab9160>"
      ]
     },
     "execution_count": 12,
     "metadata": {},
     "output_type": "execute_result"
    }
   ],
   "source": [
    "_.fma(0,2,2)"
   ]
  },
  {
   "cell_type": "markdown",
   "metadata": {},
   "source": [
    "## 6A"
   ]
  },
  {
   "cell_type": "code",
   "execution_count": 13,
   "metadata": {},
   "outputs": [
    {
     "data": {
      "text/latex": [
       "$\\left[\\begin{array}{cc|c}1&1&-1\\\\\n",
       "4&-3&3\\end{array}\\right]$"
      ],
      "text/plain": [
       "<__main__.Matrix at 0x7f357cab90f0>"
      ]
     },
     "execution_count": 13,
     "metadata": {},
     "output_type": "execute_result"
    }
   ],
   "source": [
    "Matrix([[1,1],[4,-3]],[-1,3])"
   ]
  },
  {
   "cell_type": "code",
   "execution_count": 14,
   "metadata": {},
   "outputs": [
    {
     "data": {
      "text/latex": [
       "$\\left[\\begin{array}{cc|c}1&1&-1\\\\\n",
       "0&1&-1\\end{array}\\right]$"
      ],
      "text/plain": [
       "<__main__.Matrix at 0x7f357cab90f0>"
      ]
     },
     "execution_count": 14,
     "metadata": {},
     "output_type": "execute_result"
    }
   ],
   "source": [
    "_.fma(0,1,-4).mul(1,-1/7)"
   ]
  },
  {
   "cell_type": "markdown",
   "metadata": {},
   "source": [
    "After back-substitution: $\n",
    "\\begin{cases}\n",
    "x_1=0\\\\\n",
    "x_2=-1\\\\\n",
    "\\end{cases}\n",
    "$"
   ]
  },
  {
   "cell_type": "markdown",
   "metadata": {},
   "source": [
    "## 6D"
   ]
  },
  {
   "cell_type": "code",
   "execution_count": 15,
   "metadata": {},
   "outputs": [
    {
     "data": {
      "text/latex": [
       "$\\left[\\begin{array}{cccc|c}1&1&1&1&0\\\\\n",
       "2&1&-1&3&0\\\\\n",
       "1&-2&1&1&0\\end{array}\\right]$"
      ],
      "text/plain": [
       "<__main__.Matrix at 0x7f354ba3e7b8>"
      ]
     },
     "execution_count": 15,
     "metadata": {},
     "output_type": "execute_result"
    }
   ],
   "source": [
    "Matrix([[1,1,1,1],[2,1,-1,3],[1,-2,1,1]],[0,0,0])"
   ]
  },
  {
   "cell_type": "code",
   "execution_count": 16,
   "metadata": {},
   "outputs": [
    {
     "data": {
      "text/latex": [
       "$\\left[\\begin{array}{cccc|c}1&1&1&1&0\\\\\n",
       "1&-2&1&1&0\\\\\n",
       "2&1&-1&3&0\\end{array}\\right]$"
      ],
      "text/plain": [
       "<__main__.Matrix at 0x7f354ba3e7b8>"
      ]
     },
     "execution_count": 16,
     "metadata": {},
     "output_type": "execute_result"
    }
   ],
   "source": [
    "_.swp(1,2)"
   ]
  },
  {
   "cell_type": "code",
   "execution_count": 17,
   "metadata": {},
   "outputs": [
    {
     "data": {
      "text/latex": [
       "$\\left[\\begin{array}{cccc|c}1&1&1&1&0\\\\\n",
       "0&1&0&0&0\\\\\n",
       "2&1&-1&3&0\\end{array}\\right]$"
      ],
      "text/plain": [
       "<__main__.Matrix at 0x7f354ba3e7b8>"
      ]
     },
     "execution_count": 17,
     "metadata": {},
     "output_type": "execute_result"
    }
   ],
   "source": [
    "_.fma(0,1,-1).mul(1,-1/3)"
   ]
  },
  {
   "cell_type": "markdown",
   "metadata": {},
   "source": [
    "System is inconsistant by row 2"
   ]
  },
  {
   "cell_type": "markdown",
   "metadata": {},
   "source": [
    "## 8\n",
    "$a=2$"
   ]
  },
  {
   "cell_type": "code",
   "execution_count": 18,
   "metadata": {},
   "outputs": [
    {
     "data": {
      "text/latex": [
       "$\\left[\\begin{array}{ccc|c}1&2&1&1\\\\\n",
       "-1&4&3&2\\\\\n",
       "2&-2&a&3\\end{array}\\right]$"
      ],
      "text/plain": [
       "<__main__.Matrix at 0x7f354ba3eba8>"
      ]
     },
     "execution_count": 18,
     "metadata": {},
     "output_type": "execute_result"
    }
   ],
   "source": [
    "a = sp.symbols('a')\n",
    "Matrix([[1,2,1],[-1,4,3],[2,-2,a]],[1,2,3])"
   ]
  },
  {
   "cell_type": "code",
   "execution_count": 19,
   "metadata": {},
   "outputs": [
    {
     "data": {
      "text/latex": [
       "$\\left[\\begin{array}{ccc|c}1&2&1&1\\\\\n",
       "0&1&0.667&0.5\\\\\n",
       "2&-2&a&3\\end{array}\\right]$"
      ],
      "text/plain": [
       "<__main__.Matrix at 0x7f354ba3eba8>"
      ]
     },
     "execution_count": 19,
     "metadata": {},
     "output_type": "execute_result"
    }
   ],
   "source": [
    "_.fma(0,1,1).mul(1,1/6)"
   ]
  },
  {
   "cell_type": "code",
   "execution_count": 20,
   "metadata": {},
   "outputs": [
    {
     "data": {
      "text/latex": [
       "$\\left[\\begin{array}{ccc|c}1&2&1&1\\\\\n",
       "0&1&0.667&0.5\\\\\n",
       "0&0&a + 2.002&4\\end{array}\\right]$"
      ],
      "text/plain": [
       "<__main__.Matrix at 0x7f354ba3eba8>"
      ]
     },
     "execution_count": 20,
     "metadata": {},
     "output_type": "execute_result"
    }
   ],
   "source": [
    "_.fma(0,2,-2).fma(1,2,6)"
   ]
  },
  {
   "cell_type": "markdown",
   "metadata": {},
   "source": [
    "## 9\n",
    "\n",
    "1. Yes\n",
    "2. $b=2$"
   ]
  },
  {
   "cell_type": "code",
   "execution_count": 21,
   "metadata": {},
   "outputs": [
    {
     "data": {
      "text/latex": [
       "$\\left[\\begin{array}{ccc|c}1&2&1&0\\\\\n",
       "2&5&3&0\\\\\n",
       "-1&1&b&0\\end{array}\\right]$"
      ],
      "text/plain": [
       "<__main__.Matrix at 0x7f354b9e10b8>"
      ]
     },
     "execution_count": 21,
     "metadata": {},
     "output_type": "execute_result"
    }
   ],
   "source": [
    "b = sp.symbols('b')\n",
    "Matrix([[1,2,1],[2,5,3],[-1,1,b]],[0,0,0])"
   ]
  },
  {
   "cell_type": "code",
   "execution_count": 22,
   "metadata": {},
   "outputs": [
    {
     "data": {
      "text/latex": [
       "$\\left[\\begin{array}{ccc|c}1&2&1&0\\\\\n",
       "0&1&1&0\\\\\n",
       "-1&1&b&0\\end{array}\\right]$"
      ],
      "text/plain": [
       "<__main__.Matrix at 0x7f354b9e10b8>"
      ]
     },
     "execution_count": 22,
     "metadata": {},
     "output_type": "execute_result"
    }
   ],
   "source": [
    "_.fma(0,1,-2)"
   ]
  },
  {
   "cell_type": "code",
   "execution_count": 23,
   "metadata": {},
   "outputs": [
    {
     "data": {
      "text/latex": [
       "$\\left[\\begin{array}{ccc|c}1&2&1&0\\\\\n",
       "0&1&1&0\\\\\n",
       "0&3&b + 1&0\\end{array}\\right]$"
      ],
      "text/plain": [
       "<__main__.Matrix at 0x7f354b9e10b8>"
      ]
     },
     "execution_count": 23,
     "metadata": {},
     "output_type": "execute_result"
    }
   ],
   "source": [
    "_.fma(0,2,1)"
   ]
  },
  {
   "cell_type": "code",
   "execution_count": null,
   "metadata": {},
   "outputs": [],
   "source": []
  }
 ],
 "metadata": {
  "kernelspec": {
   "display_name": "Python 3",
   "language": "python",
   "name": "python3"
  },
  "language_info": {
   "codemirror_mode": {
    "name": "ipython",
    "version": 3
   },
   "file_extension": ".py",
   "mimetype": "text/x-python",
   "name": "python",
   "nbconvert_exporter": "python",
   "pygments_lexer": "ipython3",
   "version": "3.5.3"
  }
 },
 "nbformat": 4,
 "nbformat_minor": 2
}
